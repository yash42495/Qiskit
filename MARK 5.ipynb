{
 "cells": [
  {
   "cell_type": "code",
   "execution_count": null,
   "metadata": {},
   "outputs": [],
   "source": [
    "# Necessary imports\n",
    "from qiskit import *\n",
    "from qiskit.visualization import plot_histogram\n",
    "import matplotlib as mpl\n",
    "%matplotlib inline"
   ]
  },
  {
   "cell_type": "code",
   "execution_count": null,
   "metadata": {},
   "outputs": [],
   "source": [
    "# Initialize the Quantum Circuit with 7 qubits and classical bits\n",
    "qc = QuantumCircuit(7, 7)"
   ]
  },
  {
   "cell_type": "code",
   "execution_count": null,
   "metadata": {},
   "outputs": [],
   "source": [
    "# Take an input\n",
    "letter = input(\"Enter a word : \")\n",
    "letter = list(letter)"
   ]
  },
  {
   "cell_type": "code",
   "execution_count": null,
   "metadata": {},
   "outputs": [],
   "source": [
    "# Convert to ASCII\n",
    "codes = ' '.join(format(ord(x), 'b') for x in letter)\n",
    "codes = codes.split(\" \")\n",
    "\n",
    "# Adding gates in the circuit\n",
    "for code in codes:\n",
    "    i = 0\n",
    "    while i < 7:\n",
    "        if code[i] == \"1\":\n",
    "            qc.x(i)\n",
    "        i += 1\n",
    "    qc.barrier()\n",
    "    qc.measure(0, 0)\n",
    "    qc.measure(6, 6)\n",
    "    qc.barrier()\n",
    "qc.draw(output='mpl')"
   ]
  },
  {
   "cell_type": "code",
   "execution_count": null,
   "metadata": {},
   "outputs": [],
   "source": [
    "print(codes)"
   ]
  },
  {
   "cell_type": "code",
   "execution_count": null,
   "metadata": {},
   "outputs": [],
   "source": []
  },
  {
   "cell_type": "code",
   "execution_count": null,
   "metadata": {},
   "outputs": [],
   "source": []
  }
 ],
 "metadata": {
  "kernelspec": {
   "display_name": "Python 3",
   "language": "python",
   "name": "python3"
  },
  "language_info": {
   "codemirror_mode": {
    "name": "ipython",
    "version": 3
   },
   "file_extension": ".py",
   "mimetype": "text/x-python",
   "name": "python",
   "nbconvert_exporter": "python",
   "pygments_lexer": "ipython3",
   "version": "3.7.4"
  }
 },
 "nbformat": 4,
 "nbformat_minor": 2
}
